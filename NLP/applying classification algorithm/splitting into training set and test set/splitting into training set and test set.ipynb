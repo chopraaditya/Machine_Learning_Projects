{
 "cells": [
  {
   "cell_type": "code",
   "execution_count": 2,
   "metadata": {},
   "outputs": [
    {
     "name": "stderr",
     "output_type": "stream",
     "text": [
      "[nltk_data] Downloading package stopwords to\n",
      "[nltk_data]     /Users/adityachopra/nltk_data...\n",
      "[nltk_data]   Package stopwords is already up-to-date!\n"
     ]
    },
    {
     "data": {
      "text/plain": [
       "1500"
      ]
     },
     "execution_count": 2,
     "metadata": {},
     "output_type": "execute_result"
    }
   ],
   "source": [
    "# imports libraries\n",
    "import numpy as np\n",
    "import matplotlib.pyplot as plt\n",
    "import pandas as pd\n",
    "\n",
    "# loads dataset\n",
    "dataset = pd.read_csv('Restaurant_Reviews.tsv', delimiter = \"\\t\", quoting = 3)\n",
    "\n",
    "\n",
    "# Cleaning text - removing punctuations and bringing to lowercase\n",
    "import re\n",
    "corpus = []\n",
    "\n",
    "for i in range(0, len(dataset)):\n",
    "    #replaces punctuations with \" \"(space/blank)\n",
    "    review = re.sub('[^a-zA-Z]',' ', dataset['Review'][i])\n",
    "    #lowercases words\n",
    "    review = review.lower()\n",
    "    #splits into words\n",
    "    review = review.split()\n",
    "    #joins review back into a sentence\n",
    "    review = \" \".join(review)\n",
    "    #appends review to corpus list\n",
    "    corpus.append(review)\n",
    "\n",
    "    \n",
    "# Cleaning text - removes stopwords and stems all the other words\n",
    "import nltk\n",
    "nltk.download('stopwords')\n",
    "from nltk.corpus import stopwords\n",
    "from nltk.stem.porter import PorterStemmer\n",
    "\n",
    "for i in range(0, 1000):\n",
    "    ps = PorterStemmer()\n",
    "    all_stopwords = stopwords.words('english')\n",
    "    all_stopwords.remove(\"not\")\n",
    "    corpus[i] = corpus[i].split()\n",
    "    corpus[i] = [ps.stem(word) for word in corpus[i] if not word in set(all_stopwords)]\n",
    "    corpus[i] = \" \".join(corpus[i])\n",
    "    \n",
    "    \n",
    "corpus\n",
    "\n",
    "# Bag of Words model\n",
    "from sklearn.feature_extraction.text import CountVectorizer\n",
    "cv = CountVectorizer(max_features=1500)\n",
    "X = cv.fit_transform(corpus).toarray()\n",
    "y = dataset.iloc[:,-1].values\n",
    "\n",
    "len(X[0])"
   ]
  },
  {
   "cell_type": "markdown",
   "metadata": {},
   "source": [
    "## Splitting the dataset into the Training set and Test set"
   ]
  },
  {
   "cell_type": "code",
   "execution_count": 3,
   "metadata": {},
   "outputs": [],
   "source": [
    "from sklearn.model_selection import train_test_split\n",
    "X_train, X_test, y_train, y_test = train_test_split(X, y, test_size = 0.2, random_state = 0)"
   ]
  },
  {
   "cell_type": "code",
   "execution_count": null,
   "metadata": {},
   "outputs": [],
   "source": []
  }
 ],
 "metadata": {
  "kernelspec": {
   "display_name": "Python 3",
   "language": "python",
   "name": "python3"
  },
  "language_info": {
   "codemirror_mode": {
    "name": "ipython",
    "version": 3
   },
   "file_extension": ".py",
   "mimetype": "text/x-python",
   "name": "python",
   "nbconvert_exporter": "python",
   "pygments_lexer": "ipython3",
   "version": "3.7.3"
  }
 },
 "nbformat": 4,
 "nbformat_minor": 4
}
